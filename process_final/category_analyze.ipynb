{
 "cells": [
  {
   "cell_type": "code",
   "execution_count": 1,
   "id": "2036816c",
   "metadata": {},
   "outputs": [],
   "source": [
    "import json\n",
    "import openai"
   ]
  },
  {
   "cell_type": "code",
   "execution_count": 2,
   "id": "2993af2a",
   "metadata": {},
   "outputs": [],
   "source": [
    "# Set your OpenAI API key here.\n",
    "openai.api_key = \"OPENAI_API_KEY\""
   ]
  },
  {
   "cell_type": "code",
   "execution_count": 4,
   "id": "1e8418d4",
   "metadata": {},
   "outputs": [],
   "source": [
    "geojson_path = \"/Users/daiyu/Documents/github_mac/whentextmeetmap/geojson_output/locations_JonKrakauer_IntotheWild(2007).geojson\"\n",
    "# Load the geojson file.\n",
    "with open(geojson_path, \"r\", encoding=\"utf-8\") as f:\n",
    "    geo_data = json.load(f)"
   ]
  },
  {
   "cell_type": "code",
   "execution_count": 5,
   "id": "1574687b",
   "metadata": {},
   "outputs": [
    {
     "name": "stdout",
     "output_type": "stream",
     "text": [
      "An error occurred while communicating with the OpenAI API: \n",
      "\n",
      "You tried to access openai.Completion, but this is no longer supported in openai>=1.0.0 - see the README at https://github.com/openai/openai-python for the API.\n",
      "\n",
      "You can run `openai migrate` to automatically upgrade your codebase to use the 1.0.0 interface. \n",
      "\n",
      "Alternatively, you can pin your installation to the old version, e.g. `pip install openai==0.28`\n",
      "\n",
      "A detailed migration guide is available here: https://github.com/openai/openai-python/discussions/742\n",
      "\n"
     ]
    }
   ],
   "source": [
    "# Extract the \"context\" field from each feature.\n",
    "contexts = []\n",
    "for feature in geo_data.get(\"features\", []):\n",
    "    # It is assumed the \"context\" is inside the \"properties\" of each feature.\n",
    "    properties = feature.get(\"properties\", {})\n",
    "    context_text = properties.get(\"context\")\n",
    "    if context_text:\n",
    "        contexts.append(context_text)\n",
    "\n",
    "if not contexts:\n",
    "    print(\"No 'context' fields found in the geojson file.\")\n",
    "else:\n",
    "    # Combine all context texts into one string.\n",
    "    # If the text is very long, consider sampling or truncating.\n",
    "    combined_context = \"\\n\\n\".join(contexts)\n",
    "\n",
    "    # Prepare a prompt for OpenAI API.\n",
    "    prompt = (\n",
    "        \"Below is a compilation of text from various contexts:\\n\\n\"\n",
    "        f\"{combined_context}\\n\\n\"\n",
    "        \"Based on the text above, identify and list 10 main topic categories that are discussed. \"\n",
    "        \"Provide the output as a numbered list.\"\n",
    "    )\n",
    "\n",
    "    # Call OpenAI API to extract the topics.\n",
    "    try:\n",
    "        response = openai.Completion.create(\n",
    "            engine=\"text-davinci-003\",  # You can choose a different model if needed.\n",
    "            prompt=prompt,\n",
    "            max_tokens=300,             # Adjust the token limit as needed.\n",
    "            temperature=0.5,            # Lower temperature for more deterministic outputs.\n",
    "            n=1,\n",
    "            stop=None\n",
    "        )\n",
    "        \n",
    "        # Get the text output from the response.\n",
    "        topics = response.choices[0].text.strip()\n",
    "        print(\"Extracted Topic Categories:\")\n",
    "        print(topics)\n",
    "        \n",
    "    except Exception as e:\n",
    "        print(\"An error occurred while communicating with the OpenAI API:\", e)"
   ]
  }
 ],
 "metadata": {
  "kernelspec": {
   "display_name": "ydai",
   "language": "python",
   "name": "python3"
  },
  "language_info": {
   "codemirror_mode": {
    "name": "ipython",
    "version": 3
   },
   "file_extension": ".py",
   "mimetype": "text/x-python",
   "name": "python",
   "nbconvert_exporter": "python",
   "pygments_lexer": "ipython3",
   "version": "3.12.9"
  }
 },
 "nbformat": 4,
 "nbformat_minor": 5
}
