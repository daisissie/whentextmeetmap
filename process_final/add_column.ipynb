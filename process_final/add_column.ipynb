{
 "cells": [
  {
   "cell_type": "code",
   "execution_count": 4,
   "id": "4ca372c9",
   "metadata": {},
   "outputs": [],
   "source": [
    "import pandas as pd"
   ]
  },
  {
   "cell_type": "code",
   "execution_count": 5,
   "id": "3fee3b91",
   "metadata": {},
   "outputs": [
    {
     "name": "stdout",
     "output_type": "stream",
     "text": [
      "Updated CSV file saved as: /Users/daiyu/Documents/github_mac/whentextmeetmap/csv_output/locations_HenryDavidThoreau_Walden_1.csv\n"
     ]
    }
   ],
   "source": [
    "# Read the existing CSV file\n",
    "input_file = '/Users/daiyu/Documents/github_mac/whentextmeetmap/csv_output/locations_HenryDavidThoreau_Walden.csv'\n",
    "df = pd.read_csv(input_file)\n",
    "\n",
    "# Add a new column \"Literature\" with the value \"Walden\" for every row\n",
    "df['Literature'] = \"Walden\"\n",
    "\n",
    "# Save the updated DataFrame to a new CSV file.\n",
    "output_file = '/Users/daiyu/Documents/github_mac/whentextmeetmap/csv_output/locations_HenryDavidThoreau_Walden_1.csv'\n",
    "df.to_csv(output_file, index=False)\n",
    "\n",
    "print(f\"Updated CSV file saved as: {output_file}\")"
   ]
  },
  {
   "cell_type": "code",
   "execution_count": 6,
   "id": "f61904d7",
   "metadata": {},
   "outputs": [
    {
     "name": "stdout",
     "output_type": "stream",
     "text": [
      "Updated CSV file saved as: /Users/daiyu/Documents/github_mac/whentextmeetmap/csv_output/locations_JackKerouac_OntheRoad(1976).csv\n"
     ]
    }
   ],
   "source": [
    "# Read the existing CSV file\n",
    "input_file = '/Users/daiyu/Documents/github_mac/whentextmeetmap/csv_output/locations_JackKerouac_OntheRoad(1976).csv'\n",
    "df = pd.read_csv(input_file)\n",
    "\n",
    "df['Literature'] = \"On the Road\"\n",
    "\n",
    "# Save the updated DataFrame to a new CSV file.\n",
    "output_file = '/Users/daiyu/Documents/github_mac/whentextmeetmap/csv_output/locations_JackKerouac_OntheRoad(1976).csv'\n",
    "df.to_csv(output_file, index=False)\n",
    "\n",
    "print(f\"Updated CSV file saved as: {output_file}\")"
   ]
  },
  {
   "cell_type": "code",
   "execution_count": 7,
   "id": "bf86cdae",
   "metadata": {},
   "outputs": [
    {
     "name": "stdout",
     "output_type": "stream",
     "text": [
      "Updated CSV file saved as: /Users/daiyu/Documents/github_mac/whentextmeetmap/csv_output/locations_JonKrakauer_IntotheWild(2007).csv\n"
     ]
    }
   ],
   "source": [
    "# Read the existing CSV file\n",
    "input_file = '/Users/daiyu/Documents/github_mac/whentextmeetmap/csv_output/locations_JonKrakauer_IntotheWild(2007).csv'\n",
    "df = pd.read_csv(input_file)\n",
    "\n",
    "df['Literature'] = \"Into the Wild\"\n",
    "\n",
    "# Save the updated DataFrame to a new CSV file.\n",
    "output_file = '/Users/daiyu/Documents/github_mac/whentextmeetmap/csv_output/locations_JonKrakauer_IntotheWild(2007).csv'\n",
    "df.to_csv(output_file, index=False)\n",
    "\n",
    "print(f\"Updated CSV file saved as: {output_file}\")"
   ]
  }
 ],
 "metadata": {
  "kernelspec": {
   "display_name": "ydai",
   "language": "python",
   "name": "python3"
  },
  "language_info": {
   "codemirror_mode": {
    "name": "ipython",
    "version": 3
   },
   "file_extension": ".py",
   "mimetype": "text/x-python",
   "name": "python",
   "nbconvert_exporter": "python",
   "pygments_lexer": "ipython3",
   "version": "3.12.9"
  }
 },
 "nbformat": 4,
 "nbformat_minor": 5
}
